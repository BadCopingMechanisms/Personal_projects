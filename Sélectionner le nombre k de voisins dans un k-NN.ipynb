{
 "cells": [
  {
   "cell_type": "markdown",
   "id": "20b440e6",
   "metadata": {},
   "source": [
    "# Méthodologie : sélectionner le nombre k de voisins dans un k-NN dans le cadre d'un protocole de validation croisée"
   ]
  },
  {
   "cell_type": "markdown",
   "id": "fc8995c4",
   "metadata": {},
   "source": [
    "L'algorithme KNN (k-nearest neighbors) est un algorithme simple d'apprentissage automatique supervisé qui peut être utilisé pour résoudre les problèmes de classification et de régression. Il est facile à mettre en œuvre et à comprendre, mais présente l'inconvénient majeur de devenir nettement plus lent à mesure que la taille des données utilisées augmente.\n",
    "\n",
    "KNN fonctionne en trouvant les distances entre une requête et tous les exemples dans les données, en sélectionnant le nombre spécifié d'exemples (K) les plus proches de la requête, puis en votant pour l'étiquette la plus fréquente (dans le cas de la classification) ou en faisant la moyenne des étiquettes (dans le cas de la régression)."
   ]
  },
  {
   "cell_type": "markdown",
   "id": "5a744293",
   "metadata": {},
   "source": [
    "## Importation des datas & librairies"
   ]
  },
  {
   "cell_type": "code",
   "execution_count": 1,
   "id": "b4f0639e",
   "metadata": {},
   "outputs": [
    {
     "name": "stdout",
     "output_type": "stream",
     "text": [
      "Populating the interactive namespace from numpy and matplotlib\n"
     ]
    }
   ],
   "source": [
    "import numpy as np\n",
    "import matplotlib.pyplot as plt\n",
    "import pandas as pd\n",
    "%pylab inline"
   ]
  },
  {
   "cell_type": "markdown",
   "id": "ca2c7815",
   "metadata": {},
   "source": [
    "Nous allons travailler avec un jeu de données qui contient des informations physico-chimiques de vins portugais (vinho verde), ainsi que leur qualité   issu des archives UCI : *https://archive.ics.uci.edu/ml/datasets/Wine+Quality*"
   ]
  },
  {
   "cell_type": "code",
   "execution_count": 2,
   "id": "07214017",
   "metadata": {},
   "outputs": [],
   "source": [
    "data = pd.read_csv(r\"C:\\Users\\ynore\\Desktop\\Evaluer les perf d'un algo\\winequality-white.csv\", sep =\";\")"
   ]
  },
  {
   "cell_type": "code",
   "execution_count": 3,
   "id": "e0beaceb",
   "metadata": {},
   "outputs": [
    {
     "data": {
      "text/html": [
       "<div>\n",
       "<style scoped>\n",
       "    .dataframe tbody tr th:only-of-type {\n",
       "        vertical-align: middle;\n",
       "    }\n",
       "\n",
       "    .dataframe tbody tr th {\n",
       "        vertical-align: top;\n",
       "    }\n",
       "\n",
       "    .dataframe thead th {\n",
       "        text-align: right;\n",
       "    }\n",
       "</style>\n",
       "<table border=\"1\" class=\"dataframe\">\n",
       "  <thead>\n",
       "    <tr style=\"text-align: right;\">\n",
       "      <th></th>\n",
       "      <th>fixed acidity</th>\n",
       "      <th>volatile acidity</th>\n",
       "      <th>citric acid</th>\n",
       "      <th>residual sugar</th>\n",
       "      <th>chlorides</th>\n",
       "      <th>free sulfur dioxide</th>\n",
       "      <th>total sulfur dioxide</th>\n",
       "      <th>density</th>\n",
       "      <th>pH</th>\n",
       "      <th>sulphates</th>\n",
       "      <th>alcohol</th>\n",
       "      <th>quality</th>\n",
       "    </tr>\n",
       "  </thead>\n",
       "  <tbody>\n",
       "    <tr>\n",
       "      <th>0</th>\n",
       "      <td>7.0</td>\n",
       "      <td>0.27</td>\n",
       "      <td>0.36</td>\n",
       "      <td>20.7</td>\n",
       "      <td>0.045</td>\n",
       "      <td>45.0</td>\n",
       "      <td>170.0</td>\n",
       "      <td>1.0010</td>\n",
       "      <td>3.00</td>\n",
       "      <td>0.45</td>\n",
       "      <td>8.8</td>\n",
       "      <td>6</td>\n",
       "    </tr>\n",
       "    <tr>\n",
       "      <th>1</th>\n",
       "      <td>6.3</td>\n",
       "      <td>0.30</td>\n",
       "      <td>0.34</td>\n",
       "      <td>1.6</td>\n",
       "      <td>0.049</td>\n",
       "      <td>14.0</td>\n",
       "      <td>132.0</td>\n",
       "      <td>0.9940</td>\n",
       "      <td>3.30</td>\n",
       "      <td>0.49</td>\n",
       "      <td>9.5</td>\n",
       "      <td>6</td>\n",
       "    </tr>\n",
       "    <tr>\n",
       "      <th>2</th>\n",
       "      <td>8.1</td>\n",
       "      <td>0.28</td>\n",
       "      <td>0.40</td>\n",
       "      <td>6.9</td>\n",
       "      <td>0.050</td>\n",
       "      <td>30.0</td>\n",
       "      <td>97.0</td>\n",
       "      <td>0.9951</td>\n",
       "      <td>3.26</td>\n",
       "      <td>0.44</td>\n",
       "      <td>10.1</td>\n",
       "      <td>6</td>\n",
       "    </tr>\n",
       "    <tr>\n",
       "      <th>3</th>\n",
       "      <td>7.2</td>\n",
       "      <td>0.23</td>\n",
       "      <td>0.32</td>\n",
       "      <td>8.5</td>\n",
       "      <td>0.058</td>\n",
       "      <td>47.0</td>\n",
       "      <td>186.0</td>\n",
       "      <td>0.9956</td>\n",
       "      <td>3.19</td>\n",
       "      <td>0.40</td>\n",
       "      <td>9.9</td>\n",
       "      <td>6</td>\n",
       "    </tr>\n",
       "    <tr>\n",
       "      <th>4</th>\n",
       "      <td>7.2</td>\n",
       "      <td>0.23</td>\n",
       "      <td>0.32</td>\n",
       "      <td>8.5</td>\n",
       "      <td>0.058</td>\n",
       "      <td>47.0</td>\n",
       "      <td>186.0</td>\n",
       "      <td>0.9956</td>\n",
       "      <td>3.19</td>\n",
       "      <td>0.40</td>\n",
       "      <td>9.9</td>\n",
       "      <td>6</td>\n",
       "    </tr>\n",
       "  </tbody>\n",
       "</table>\n",
       "</div>"
      ],
      "text/plain": [
       "   fixed acidity  volatile acidity  citric acid  residual sugar  chlorides  \\\n",
       "0            7.0              0.27         0.36            20.7      0.045   \n",
       "1            6.3              0.30         0.34             1.6      0.049   \n",
       "2            8.1              0.28         0.40             6.9      0.050   \n",
       "3            7.2              0.23         0.32             8.5      0.058   \n",
       "4            7.2              0.23         0.32             8.5      0.058   \n",
       "\n",
       "   free sulfur dioxide  total sulfur dioxide  density    pH  sulphates  \\\n",
       "0                 45.0                 170.0   1.0010  3.00       0.45   \n",
       "1                 14.0                 132.0   0.9940  3.30       0.49   \n",
       "2                 30.0                  97.0   0.9951  3.26       0.44   \n",
       "3                 47.0                 186.0   0.9956  3.19       0.40   \n",
       "4                 47.0                 186.0   0.9956  3.19       0.40   \n",
       "\n",
       "   alcohol  quality  \n",
       "0      8.8        6  \n",
       "1      9.5        6  \n",
       "2     10.1        6  \n",
       "3      9.9        6  \n",
       "4      9.9        6  "
      ]
     },
     "execution_count": 3,
     "metadata": {},
     "output_type": "execute_result"
    }
   ],
   "source": [
    "data.head()"
   ]
  },
  {
   "cell_type": "markdown",
   "id": "c8528aa6",
   "metadata": {},
   "source": [
    "Nous allons extraire deux arrays de ces données, un qui contient les points et l’autre qui contient les étiquettes (quality) :  "
   ]
  },
  {
   "cell_type": "code",
   "execution_count": 4,
   "id": "a51a9373",
   "metadata": {},
   "outputs": [],
   "source": [
    "X = data[data.columns[:-1]].values\n",
    "y = data['quality'].values"
   ]
  },
  {
   "cell_type": "markdown",
   "id": "58c58197",
   "metadata": {},
   "source": [
    "Affichons maintenant un histogramme pour voir la répartition des individus dans les variables :"
   ]
  },
  {
   "cell_type": "code",
   "execution_count": 5,
   "id": "cc1ed47c",
   "metadata": {},
   "outputs": [
    {
     "data": {
      "image/png": "[encoded data removed]",
      "text/plain": [
       "<Figure size 1152x864 with 11 Axes>"
      ]
     },
     "metadata": {
      "needs_background": "light"
     },
     "output_type": "display_data"
    }
   ],
   "source": [
    "fig = plt.figure(figsize=(16, 12))\n",
    "\n",
    "for feat_idx in range(X.shape[1]):\n",
    "    ax = fig.add_subplot(3,4, (feat_idx+1))\n",
    "    h = ax.hist(X[:, feat_idx], bins=50, color='steelblue', density=True, edgecolor='none')\n",
    "    ax.set_title(data.columns[feat_idx], fontsize=14)"
   ]
  },
  {
   "cell_type": "markdown",
   "id": "d5e01bb8",
   "metadata": {},
   "source": [
    "On remarque en particulier que ces variables prennent des valeurs dans des ensembles différents. Il va donc nous falloir standardiser les données pour que la deuxième ne domine pas complètement la première. Si l'échelle des variables n'est pas la même, le modèle pourrait être biaisé en faveur des variables ayant une magnitude plus élevée."
   ]
  },
  {
   "cell_type": "markdown",
   "id": "15da880e",
   "metadata": {},
   "source": [
    "## Sélection du modèle"
   ]
  },
  {
   "cell_type": "markdown",
   "id": "51d5e377",
   "metadata": {},
   "source": [
    "Transformons d'abord ce problème en un problème de classification : bon vins (quality > 6 ) vs mauvais vins (quality < 6):"
   ]
  },
  {
   "cell_type": "code",
   "execution_count": 6,
   "id": "67766244",
   "metadata": {},
   "outputs": [],
   "source": [
    "y_class = np.where(y<6, 0, 1)"
   ]
  },
  {
   "cell_type": "markdown",
   "id": "737611c4",
   "metadata": {},
   "source": [
    "Puis séparons nos données en un jeu d'entraînement et un jeu test (30% des données) :"
   ]
  },
  {
   "cell_type": "code",
   "execution_count": 7,
   "id": "cf3dafd7",
   "metadata": {},
   "outputs": [],
   "source": [
    "from sklearn import model_selection\n",
    "X_train, X_test, y_train, y_test = \\\n",
    "    model_selection.train_test_split(X, y_class,\n",
    "                                    test_size=0.3 # 30% des données dans le jeu de test\n",
    "                                    )"
   ]
  },
  {
   "cell_type": "markdown",
   "id": "479413af",
   "metadata": {},
   "source": [
    "On peut maintenant standardiser les données d’entraînement et appliquer la même transformation aux données de test :"
   ]
  },
  {
   "cell_type": "code",
   "execution_count": 8,
   "id": "c03e91d7",
   "metadata": {},
   "outputs": [],
   "source": [
    "from sklearn import preprocessing\n",
    "std_scale = preprocessing.StandardScaler().fit(X_train)\n",
    "X_train_std = std_scale.transform(X_train)\n",
    "X_test_std = std_scale.transform(X_test)"
   ]
  },
  {
   "cell_type": "markdown",
   "id": "a74fc782",
   "metadata": {},
   "source": [
    "Si on visualise de nouveau les données (maintenant standardisées) : "
   ]
  },
  {
   "cell_type": "code",
   "execution_count": 9,
   "id": "28ace4fc",
   "metadata": {},
   "outputs": [
    {
     "data": {
      "image/png": "[encoded data removed]",
      "text/plain": [
       "<Figure size 1152x864 with 11 Axes>"
      ]
     },
     "metadata": {
      "needs_background": "light"
     },
     "output_type": "display_data"
    }
   ],
   "source": [
    "fig = plt.figure(figsize=(16, 12))\n",
    "\n",
    "for feat_idx in range(X_train_std.shape[1]):\n",
    "    ax = fig.add_subplot(3,4, (feat_idx+1))\n",
    "    h = ax.hist(X_train_std[:, feat_idx], bins=50, color = 'steelblue', density=True, edgecolor='none')\n",
    "    ax.set_title(data.columns[feat_idx], fontsize=14)"
   ]
  },
  {
   "cell_type": "markdown",
   "id": "f7d04e57",
   "metadata": {},
   "source": [
    "On constate qu'elles ont bien toutes le même ordre de grandeur.\n",
    "\n",
    "Nous allons maintenant utiliser la méthode \"GridSearchCV\" pour faire une validation croisée du paramètre k d’un kNN (le nombre de plus proches voisins) sur le jeu d’entraînement :"
   ]
  },
  {
   "cell_type": "code",
   "execution_count": 10,
   "id": "8fb55409",
   "metadata": {},
   "outputs": [
    {
     "data": {
      "text/plain": [
       "GridSearchCV(cv=5, estimator=KNeighborsClassifier(),\n",
       "             param_grid={'n_neighbors': [3, 5, 7, 9, 11, 13, 15]},\n",
       "             scoring='accuracy')"
      ]
     },
     "execution_count": 10,
     "metadata": {},
     "output_type": "execute_result"
    }
   ],
   "source": [
    "from sklearn import neighbors, metrics\n",
    "\n",
    "# Fixer les valeurs des hyperparamètres à tester\n",
    "param_grid = {'n_neighbors':[3, 5, 7, 9, 11, 13, 15]}\n",
    "\n",
    "# Choisir un score à optimiser, ici l'accuracy (proportion de prédictions correctes)\n",
    "score = 'accuracy'\n",
    "\n",
    "# Créer un classifieur kNN avec recherche d'hyperparamètre par validation croisée\n",
    "clf = model_selection.GridSearchCV(\n",
    "    neighbors.KNeighborsClassifier(), # un classifieur kNN\n",
    "    param_grid,     # hyperparamètres à tester\n",
    "    cv=5,           # nombre de folds de validation croisée\n",
    "    scoring=score   # score à optimiser\n",
    ")\n",
    "\n",
    "# Optimiser ce classifieur sur le jeu d'entraînement\n",
    "clf.fit(X_train_std, y_train)"
   ]
  },
  {
   "cell_type": "code",
   "execution_count": 11,
   "id": "5afbc432",
   "metadata": {},
   "outputs": [
    {
     "name": "stdout",
     "output_type": "stream",
     "text": [
      "Meilleur(s) hyperparamètre(s) sur le jeu d'entraînement:\n",
      "{'n_neighbors': 15}\n",
      "Résultats de la validation croisée :\n",
      "accuracy = 0.755 (+/-0.028) for {'n_neighbors': 3}\n",
      "accuracy = 0.759 (+/-0.030) for {'n_neighbors': 5}\n",
      "accuracy = 0.758 (+/-0.033) for {'n_neighbors': 7}\n",
      "accuracy = 0.756 (+/-0.030) for {'n_neighbors': 9}\n",
      "accuracy = 0.762 (+/-0.020) for {'n_neighbors': 11}\n",
      "accuracy = 0.762 (+/-0.026) for {'n_neighbors': 13}\n",
      "accuracy = 0.763 (+/-0.026) for {'n_neighbors': 15}\n"
     ]
    }
   ],
   "source": [
    "# Afficher le(s) hyperparamètre(s) optimaux\n",
    "print(\"Meilleur(s) hyperparamètre(s) sur le jeu d'entraînement:\")\n",
    "print(clf.best_params_)\n",
    "\n",
    "# Afficher les performances de chaque hyperparamètre\n",
    "print(\"Résultats de la validation croisée :\")\n",
    "for mean, std, params in zip(\n",
    "        clf.cv_results_['mean_test_score'], # score moyen\n",
    "        clf.cv_results_['std_test_score'],  # écart-type du score\n",
    "        clf.cv_results_['params']           # valeur de l'hyperparamètre\n",
    "    ):\n",
    "\n",
    "    print(\"{} = {:.3f} (+/-{:.03f}) for {}\".format(\n",
    "        score,\n",
    "        mean,\n",
    "        std*2,\n",
    "        params\n",
    "    ) )"
   ]
  },
  {
   "cell_type": "markdown",
   "id": "28c17bb9",
   "metadata": {},
   "source": [
    "La meilleure performance est obtenue avec 5 voisins (0.761). Cependant, les autres performances ne sont pas très loin et il est possible que le meilleur hyperparamètre soit différent lorsqu'on relance l'algorithme.  "
   ]
  },
  {
   "cell_type": "markdown",
   "id": "8132a2ce",
   "metadata": {},
   "source": [
    "Nous pouvons maintenant regarder la performance sur le jeu de test :"
   ]
  },
  {
   "cell_type": "code",
   "execution_count": 12,
   "id": "05cf15d3",
   "metadata": {},
   "outputs": [
    {
     "name": "stdout",
     "output_type": "stream",
     "text": [
      "\n",
      "Sur le jeu de test : 0.765\n"
     ]
    }
   ],
   "source": [
    "y_pred = clf.predict(X_test_std)\n",
    "print(\"\\nSur le jeu de test : {:.3f}\".format(metrics.accuracy_score(y_test, y_pred)))"
   ]
  },
  {
   "cell_type": "markdown",
   "id": "6c479cea",
   "metadata": {},
   "source": [
    "On obtient ici une performance de 0.77 ce qui est meilleur qu'à l'entraînement !"
   ]
  },
  {
   "cell_type": "markdown",
   "id": "537497b4",
   "metadata": {},
   "source": [
    "# Courbe ROC (Receiver operating characteristic) "
   ]
  },
  {
   "cell_type": "markdown",
   "id": "2fd62a33",
   "metadata": {},
   "source": [
    "Bien que le but d'un algorithme de classification soit de faire des prédictions binaires, un grand nombre d'algorithmes retournent un nombre réel. Plus cette valeur est élevée, plus le point est susceptible d'être positif.\n",
    "\n",
    "Par exemple, l’algorithme des k plus proches voisins (kNN) pourrait retourner non pas la classe majoritaire parmi celles de k plus proches voisins du point, mais la proportion d’exemples positifs parmi ces voisins. Dans ce cas, pour retourner une prédiction binaire, il faut seuiller : si le score retourné est supérieur au seuil, alors on prédit positif ; s’il est inférieur, on prédit négatif. \n",
    "\n",
    "Pour définir ce seuil nous allons donc construire une courbe pour montrer comment la sensibilité évolue en fonction de la spécificité : on appelle cette courbe la courbe de ROC."
   ]
  },
  {
   "cell_type": "code",
   "execution_count": 13,
   "id": "e6a3d97a",
   "metadata": {},
   "outputs": [
    {
     "data": {
      "text/plain": [
       "Text(0, 0.5, 'Sensibilite')"
      ]
     },
     "execution_count": 13,
     "metadata": {},
     "output_type": "execute_result"
    },
    {
     "data": {
      "image/png": "[encoded data removed]",
      "text/plain": [
       "<Figure size 432x288 with 1 Axes>"
      ]
     },
     "metadata": {
      "needs_background": "light"
     },
     "output_type": "display_data"
    }
   ],
   "source": [
    "# Courbe de ROC :\n",
    "\n",
    "y_pred_proba = clf.predict_proba(X_test_std)[:, 1]\n",
    "[fpr, tpr, thr] = metrics.roc_curve(y_test, y_pred_proba)\n",
    "plt.plot(fpr, tpr, color='coral', lw=2)\n",
    "plt.xlim([0.0, 1.0])\n",
    "plt.ylim([0.0, 1.05])\n",
    "plt.xlabel('1 - specificite', fontsize=14)\n",
    "plt.ylabel('Sensibilite', fontsize=14)"
   ]
  },
  {
   "cell_type": "markdown",
   "id": "f1361106",
   "metadata": {},
   "source": [
    "On peut résumer la courbe ROC par \"l'aire sous la courbe\", aussi dénotée AUROC pour « Area Under the ROC », qui permet plus aisément de comparer plusieurs modèles : "
   ]
  },
  {
   "cell_type": "code",
   "execution_count": 14,
   "id": "7af4fd6f",
   "metadata": {},
   "outputs": [
    {
     "name": "stdout",
     "output_type": "stream",
     "text": [
      "0.8300536082474227\n"
     ]
    }
   ],
   "source": [
    "# calcul de l'air :\n",
    "\n",
    "print(metrics.auc(fpr, tpr))"
   ]
  },
  {
   "cell_type": "markdown",
   "id": "c11e7ff8",
   "metadata": {},
   "source": [
    "Maintenant, pour délimiter un seuil, on fixe soit la spécificité, soit la sensibilité que l'on désire, et on cherche le seuil correspondant. Imaginons que l’algorithme doit être capable de détecter efficacement les vins de mauvaise qualité. On veut alors limiter le nombre de faux négatifs, pour limiter le nombre de rejets infondés. Fixons-nous un taux de faux négatifs tolérable (la proportion de positifs incorrectement prédits négatifs) de 5%. Cela équivaut à une sensibilité de 0.95"
   ]
  },
  {
   "cell_type": "code",
   "execution_count": 15,
   "id": "8fe38722",
   "metadata": {},
   "outputs": [
    {
     "name": "stdout",
     "output_type": "stream",
     "text": [
      "Sensibilité : 0.97\n",
      "Spécificité : 0.24\n",
      "Seuil : 0.33\n"
     ]
    }
   ],
   "source": [
    "# indice du premier seuil pour lequel la sensibilité est supérieure à 0.95\n",
    "idx = np.min(np.where(tpr > 0.95)) \n",
    "\n",
    "print(\"Sensibilité : {:.2f}\".format(tpr[idx]))\n",
    "print(\"Spécificité : {:.2f}\".format(1-fpr[idx]))\n",
    "print(\"Seuil : {:.2f}\".format(thr[idx]))\n"
   ]
  },
  {
   "cell_type": "markdown",
   "id": "08282eb8",
   "metadata": {},
   "source": [
    "# Comparer un modèle k-NN à des approches naïves :"
   ]
  },
  {
   "cell_type": "markdown",
   "id": "6a367f2c",
   "metadata": {},
   "source": [
    "Reprenons notre jeu de données standardisées et séparé en jeux test/entraînement. Comme les étiquettes sont des nombres entiers, nous pouvons traiter la prédiction de la note de chaque vin à partir de ses caractéristiques physico-chimiques comme un problème de régression."
   ]
  },
  {
   "cell_type": "code",
   "execution_count": 23,
   "id": "788806dd",
   "metadata": {},
   "outputs": [],
   "source": [
    "X = data[data.columns[:-1]].values\n",
    "y = data['quality'].values\n",
    "\n",
    "# séparation des données\n",
    "X_train, X_test, y_train, y_test = model_selection.train_test_split(X, y, test_size=0.3 ) # 30% des données dans le jeu de test\n",
    "\n",
    "# Standardisons les données :\n",
    "std_scale = preprocessing.StandardScaler().fit(X_train)\n",
    "X_train_std = std_scale.transform(X_train)\n",
    "X_test_std = std_scale.transform(X_test)"
   ]
  },
  {
   "cell_type": "markdown",
   "id": "eb0246da",
   "metadata": {},
   "source": [
    "Entraînons un kNN avec k=11 sur ces données :"
   ]
  },
  {
   "cell_type": "code",
   "execution_count": 25,
   "id": "279d350c",
   "metadata": {},
   "outputs": [
    {
     "data": {
      "text/plain": [
       "KNeighborsRegressor(n_neighbors=11)"
      ]
     },
     "execution_count": 25,
     "metadata": {},
     "output_type": "execute_result"
    }
   ],
   "source": [
    "from sklearn import neighbors\n",
    "knn = neighbors.KNeighborsRegressor(n_neighbors=11)\n",
    "knn.fit(X_train_std, y_train)"
   ]
  },
  {
   "cell_type": "code",
   "execution_count": 26,
   "id": "f272b7bc",
   "metadata": {},
   "outputs": [],
   "source": [
    "# Et appliquons le pour prédire les étiquettes de notre jeu de test :\n",
    "y_pred = knn.predict(X_test_std)"
   ]
  },
  {
   "cell_type": "code",
   "execution_count": 27,
   "id": "dfcddfcd",
   "metadata": {},
   "outputs": [
    {
     "name": "stdout",
     "output_type": "stream",
     "text": [
      "RMSE : 0.67\n"
     ]
    }
   ],
   "source": [
    "# Calculons la RMSE correspondante :\n",
    "print(\"RMSE : {:.2f}\".format(np.sqrt( metrics.mean_squared_error(y_test, y_pred) )))\n"
   ]
  },
  {
   "cell_type": "markdown",
   "id": "3573c631",
   "metadata": {},
   "source": [
    "J'obtiens une RMSE de 0.67. Nos étiquettes étant des nombres entiers, nous faisons en moyenne une erreur inférieure à la plus petite différence possible entre deux notes.\n",
    "Nous pouvons visualiser les résultats sur un graphique, en représentant en abscisse les vraies valeurs des étiquettes, et en ordonnée les valeurs prédites.\n"
   ]
  },
  {
   "cell_type": "code",
   "execution_count": 28,
   "id": "59f96182",
   "metadata": {},
   "outputs": [
    {
     "data": {
      "text/plain": [
       "<matplotlib.collections.PathCollection at 0x14fa611aa00>"
      ]
     },
     "execution_count": 28,
     "metadata": {},
     "output_type": "execute_result"
    },
    {
     "data": {
      "image/png": "[encoded data removed]",
      "text/plain": [
       "<Figure size 432x288 with 1 Axes>"
      ]
     },
     "metadata": {
      "needs_background": "light"
     },
     "output_type": "display_data"
    }
   ],
   "source": [
    "plt.scatter(y_test, y_pred, color='coral')"
   ]
  },
  {
   "cell_type": "markdown",
   "id": "b4f1789b",
   "metadata": {},
   "source": [
    "Comme nos étiquettes prennent des valeurs entières entre 3 et 9, nous avons beaucoup de points superposés aux mêmes coordonnées. Pour mieux visualiser les données, nous pouvons utiliser comme marqueurs des cercles dont la taille est proportionnelle au nombre de points qui sont présents à ces coordonnée :"
   ]
  },
  {
   "cell_type": "code",
   "execution_count": 29,
   "id": "ca9112f7",
   "metadata": {},
   "outputs": [
    {
     "data": {
      "text/plain": [
       "<matplotlib.collections.PathCollection at 0x14fa71698e0>"
      ]
     },
     "execution_count": 29,
     "metadata": {},
     "output_type": "execute_result"
    },
    {
     "data": {
      "image/png": "[encoded data removed]",
      "text/plain": [
       "<Figure size 432x288 with 1 Axes>"
      ]
     },
     "metadata": {
      "needs_background": "light"
     },
     "output_type": "display_data"
    }
   ],
   "source": [
    "sizes = {} # clé : coordonnées ; valeur : nombre de points à ces coordonnées\n",
    "for (yt, yp) in zip(list(y_test), list(y_pred)):\n",
    "    if (yt, yp) in sizes:\n",
    "        sizes[(yt, yp)] += 1\n",
    "    else:\n",
    "        sizes[(yt, yp)] = 1\n",
    "\n",
    "keys = sizes.keys()\n",
    "plt.scatter(\n",
    "        [k[0] for k in keys], # vraie valeur (abscisse)\n",
    "        [k[1] for k in keys], # valeur predite (ordonnee)\n",
    "        s=[sizes[k] for k in keys], # taille du marqueur\n",
    "        color='coral', alpha =0.8)"
   ]
  },
  {
   "cell_type": "markdown",
   "id": "65ce4b82",
   "metadata": {},
   "source": [
    "La taille des marqueurs est proportionnelle à celle du nombre de points à ces coordonnées. On note ainsi une accumulation de prédictions correctes sur la diagonale. Néanmoins le modèle n'est pas très précis dans ses prédictions.\n",
    "\n",
    "Pour mieux comprendre notre modèle, comparons-le à une première approche naïve, qui consiste à prédire des valeurs aléatoires, distribuées uniformément entre les valeurs basse et haute des étiquettes du jeu de données d'entraînement."
   ]
  },
  {
   "cell_type": "code",
   "execution_count": 31,
   "id": "89b75cea",
   "metadata": {},
   "outputs": [
    {
     "name": "stdout",
     "output_type": "stream",
     "text": [
      "RMSE : 1.92\n"
     ]
    }
   ],
   "source": [
    "y_pred_random = np.random.randint(np.min(y), np.max(y), y_test.shape)\n",
    "\n",
    "# Calculons la RMSE correspondante :\n",
    "print(\"RMSE : {:.2f}\".format(np.sqrt(metrics.mean_squared_error(y_test, y_pred_random))))"
   ]
  },
  {
   "cell_type": "markdown",
   "id": "a04ff134",
   "metadata": {},
   "source": [
    "J'obtiens une RMSE de 1.92, ce qui est bien supérieur à la RMSE obtenue par notre modèle kNN. Notre modèle a ainsi réussi à bien mieux apprendre qu'un modèle aléatoire.\n",
    "\n",
    "Cependant, beaucoup de nos vins ont une note de 6, et beaucoup de nos prédictions sont autour de cette valeur. Comparons maintenant notre modèle à un modèle aléatoire qui retourne systématiquement la valeur moyenne des étiquettes du jeu de données d'entraînement :\n"
   ]
  },
  {
   "cell_type": "code",
   "execution_count": 32,
   "id": "c58d1074",
   "metadata": {},
   "outputs": [
    {
     "name": "stdout",
     "output_type": "stream",
     "text": [
      "RMSE : 0.87\n"
     ]
    }
   ],
   "source": [
    "from sklearn import dummy\n",
    "dum = dummy.DummyRegressor(strategy='mean')\n",
    "\n",
    "# Entraînement\n",
    "dum.fit(X_train_std, y_train)\n",
    "\n",
    "# Prédiction sur le jeu de test\n",
    "y_pred_dum = dum.predict(X_test_std)\n",
    "\n",
    "# Evaluate\n",
    "print(\"RMSE : {:.2f}\".format(np.sqrt(metrics.mean_squared_error(y_test, y_pred_dum)) ))\n"
   ]
  },
  {
   "cell_type": "markdown",
   "id": "0cab4154",
   "metadata": {},
   "source": [
    "J'obtiens une RMSE de 0.87, qui est supérieure à celle de 0.67 obtenue par le kNN. Le kNN a donc appris plus que la moyenne des étiquettes…"
   ]
  }
 ],
 "metadata": {
  "kernelspec": {
   "display_name": "Python 3 (ipykernel)",
   "language": "python",
   "name": "python3"
  },
  "language_info": {
   "codemirror_mode": {
    "name": "ipython",
    "version": 3
   },
   "file_extension": ".py",
   "mimetype": "text/x-python",
   "name": "python",
   "nbconvert_exporter": "python",
   "pygments_lexer": "ipython3",
   "version": "3.9.7"
  }
 },
 "nbformat": 4,
 "nbformat_minor": 5
}
